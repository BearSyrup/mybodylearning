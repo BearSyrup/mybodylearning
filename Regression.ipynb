{
 "cells": [
  {
   "cell_type": "code",
   "execution_count": 52,
   "metadata": {
    "collapsed": true
   },
   "outputs": [],
   "source": [
    "import pandas as pd\n",
    "import seaborn as sns\n",
    "import numpy as np\n",
    "import matplotlib.pyplot as plt\n",
    "from sklearn.linear_model import LogisticRegression\n",
    "from sklearn.svm import SVC\n",
    "%matplotlib inline"
   ]
  },
  {
   "cell_type": "code",
   "execution_count": 53,
   "metadata": {},
   "outputs": [],
   "source": [
    "dataframe = pd.read_csv('body_measurement.csv')\n",
    "classifier = SVC(kernel='linear', C = 1.0)"
   ]
  },
  {
   "cell_type": "code",
   "execution_count": 54,
   "metadata": {},
   "outputs": [
    {
     "data": {
      "text/html": [
       "<div>\n",
       "<style>\n",
       "    .dataframe thead tr:only-child th {\n",
       "        text-align: right;\n",
       "    }\n",
       "\n",
       "    .dataframe thead th {\n",
       "        text-align: left;\n",
       "    }\n",
       "\n",
       "    .dataframe tbody tr th {\n",
       "        vertical-align: top;\n",
       "    }\n",
       "</style>\n",
       "<table border=\"1\" class=\"dataframe\">\n",
       "  <thead>\n",
       "    <tr style=\"text-align: right;\">\n",
       "      <th></th>\n",
       "      <th>Weight</th>\n",
       "      <th>Fat</th>\n",
       "      <th>Viceral Fat</th>\n",
       "      <th>Muscle</th>\n",
       "      <th>RM</th>\n",
       "      <th>BMI</th>\n",
       "    </tr>\n",
       "  </thead>\n",
       "  <tbody>\n",
       "    <tr>\n",
       "      <th>count</th>\n",
       "      <td>262.000000</td>\n",
       "      <td>262.000000</td>\n",
       "      <td>262.000000</td>\n",
       "      <td>262.000000</td>\n",
       "      <td>262.000000</td>\n",
       "      <td>261.000000</td>\n",
       "    </tr>\n",
       "    <tr>\n",
       "      <th>mean</th>\n",
       "      <td>68.016794</td>\n",
       "      <td>19.186107</td>\n",
       "      <td>5.881298</td>\n",
       "      <td>37.679771</td>\n",
       "      <td>1551.396183</td>\n",
       "      <td>23.683142</td>\n",
       "    </tr>\n",
       "    <tr>\n",
       "      <th>std</th>\n",
       "      <td>1.609629</td>\n",
       "      <td>1.156715</td>\n",
       "      <td>1.999155</td>\n",
       "      <td>1.422510</td>\n",
       "      <td>102.033683</td>\n",
       "      <td>0.581529</td>\n",
       "    </tr>\n",
       "    <tr>\n",
       "      <th>min</th>\n",
       "      <td>64.400000</td>\n",
       "      <td>15.300000</td>\n",
       "      <td>5.000000</td>\n",
       "      <td>35.100000</td>\n",
       "      <td>23.800000</td>\n",
       "      <td>22.400000</td>\n",
       "    </tr>\n",
       "    <tr>\n",
       "      <th>25%</th>\n",
       "      <td>66.900000</td>\n",
       "      <td>18.400000</td>\n",
       "      <td>5.000000</td>\n",
       "      <td>36.700000</td>\n",
       "      <td>1532.000000</td>\n",
       "      <td>23.300000</td>\n",
       "    </tr>\n",
       "    <tr>\n",
       "      <th>50%</th>\n",
       "      <td>68.100000</td>\n",
       "      <td>19.200000</td>\n",
       "      <td>6.000000</td>\n",
       "      <td>37.400000</td>\n",
       "      <td>1553.500000</td>\n",
       "      <td>23.700000</td>\n",
       "    </tr>\n",
       "    <tr>\n",
       "      <th>75%</th>\n",
       "      <td>68.800000</td>\n",
       "      <td>19.700000</td>\n",
       "      <td>6.000000</td>\n",
       "      <td>38.300000</td>\n",
       "      <td>1577.000000</td>\n",
       "      <td>23.900000</td>\n",
       "    </tr>\n",
       "    <tr>\n",
       "      <th>max</th>\n",
       "      <td>73.500000</td>\n",
       "      <td>22.800000</td>\n",
       "      <td>36.900000</td>\n",
       "      <td>45.200000</td>\n",
       "      <td>1722.000000</td>\n",
       "      <td>26.000000</td>\n",
       "    </tr>\n",
       "  </tbody>\n",
       "</table>\n",
       "</div>"
      ],
      "text/plain": [
       "           Weight         Fat  Viceral Fat      Muscle           RM  \\\n",
       "count  262.000000  262.000000   262.000000  262.000000   262.000000   \n",
       "mean    68.016794   19.186107     5.881298   37.679771  1551.396183   \n",
       "std      1.609629    1.156715     1.999155    1.422510   102.033683   \n",
       "min     64.400000   15.300000     5.000000   35.100000    23.800000   \n",
       "25%     66.900000   18.400000     5.000000   36.700000  1532.000000   \n",
       "50%     68.100000   19.200000     6.000000   37.400000  1553.500000   \n",
       "75%     68.800000   19.700000     6.000000   38.300000  1577.000000   \n",
       "max     73.500000   22.800000    36.900000   45.200000  1722.000000   \n",
       "\n",
       "              BMI  \n",
       "count  261.000000  \n",
       "mean    23.683142  \n",
       "std      0.581529  \n",
       "min     22.400000  \n",
       "25%     23.300000  \n",
       "50%     23.700000  \n",
       "75%     23.900000  \n",
       "max     26.000000  "
      ]
     },
     "execution_count": 54,
     "metadata": {},
     "output_type": "execute_result"
    }
   ],
   "source": [
    "dataframe.describe()"
   ]
  },
  {
   "cell_type": "code",
   "execution_count": 66,
   "metadata": {},
   "outputs": [],
   "source": [
    "X = np.asarray(dataframe['Weight'])\n",
    "y = np.asarray(dataframe['Fat'])"
   ]
  },
  {
   "cell_type": "code",
   "execution_count": null,
   "metadata": {},
   "outputs": [],
   "source": []
  },
  {
   "cell_type": "code",
   "execution_count": 68,
   "metadata": {},
   "outputs": [
    {
     "data": {
      "text/plain": [
       "array([ 22.7 ,  22.3 ,  22.7 ,  22.4 ,  22.5 ,  22.8 ,  22.7 ,  22.6 ,\n",
       "        22.  ,  22.1 ,  21.6 ,  21.3 ,  21.  ,  20.9 ,  20.7 ,  21.2 ,\n",
       "        20.7 ,  20.7 ,  20.2 ,  20.4 ,  20.8 ,  20.2 ,  19.6 ,  19.7 ,\n",
       "        19.8 ,  19.  ,  19.6 ,  19.5 ,  19.7 ,  19.8 ,  20.3 ,  19.6 ,\n",
       "        19.4 ,  19.  ,  19.  ,  19.4 ,  19.1 ,  19.6 ,  18.  ,  18.3 ,\n",
       "        18.5 ,  19.  ,  19.4 ,  19.1 ,  17.8 ,  17.5 ,  17.8 ,  18.8 ,\n",
       "        17.9 ,  18.3 ,  18.2 ,  18.3 ,  16.9 ,  17.7 ,  17.  ,  17.7 ,\n",
       "        18.  ,  17.8 ,  15.3 ,  17.2 ,  18.2 ,  18.2 ,  18.  ,  17.2 ,\n",
       "        16.3 ,  18.4 ,  18.5 ,  18.4 ,  18.1 ,  18.5 ,  18.4 ,  19.1 ,\n",
       "        18.6 ,  19.2 ,  18.9 ,  18.9 ,  18.8 ,  19.4 ,  19.1 ,  18.1 ,\n",
       "        17.3 ,  17.1 ,  17.5 ,  18.4 ,  18.2 ,  18.4 ,  18.7 ,  17.4 ,\n",
       "        17.8 ,  16.6 ,  18.6 ,  18.  ,  18.2 ,  17.7 ,  17.2 ,  17.2 ,\n",
       "        18.2 ,  18.3 ,  17.9 ,  18.1 ,  19.4 ,  18.1 ,  15.9 ,  17.5 ,\n",
       "        18.  ,  17.8 ,  18.2 ,  18.  ,  18.3 ,  18.2 ,  18.5 ,  18.9 ,\n",
       "        18.1 ,  18.7 ,  19.3 ,  18.2 ,  17.9 ,  18.1 ,  18.5 ,  18.9 ,\n",
       "        18.1 ,  19.7 ,  19.2 ,  19.  ,  19.7 ,  19.3 ,  19.7 ,  20.4 ,\n",
       "        20.1 ,  19.4 ,  19.7 ,  19.7 ,  20.1 ,  19.1 ,  19.7 ,  18.5 ,\n",
       "        19.8 ,  19.6 ,  19.6 ,  19.5 ,  19.2 ,  19.3 ,  19.1 ,  18.7 ,\n",
       "        19.3 ,  19.7 ,  19.6 ,  19.  ,  20.1 ,  20.5 ,  20.  ,  19.9 ,\n",
       "        19.5 ,  19.4 ,  19.1 ,  19.4 ,  19.  ,  20.2 ,  19.5 ,  19.7 ,\n",
       "        19.5 ,  19.1 ,  20.3 ,  19.9 ,  19.2 ,  18.4 ,  19.  ,  19.8 ,\n",
       "        19.5 ,  19.7 ,  19.4 ,  19.1 ,  18.8 ,  19.7 ,  19.3 ,  18.5 ,\n",
       "        19.4 ,  19.8 ,  20.5 ,  20.  ,  19.  ,  19.4 ,  19.2 ,  20.  ,\n",
       "        19.9 ,  19.7 ,  19.7 ,  18.7 ,  19.2 ,  19.8 ,  19.5 ,  19.  ,\n",
       "        18.9 ,  19.3 ,  20.2 ,  19.4 ,  20.  ,  19.6 ,  19.6 ,  19.5 ,\n",
       "        18.9 ,  20.6 ,  19.8 ,  20.  ,  20.4 ,  20.4 ,  19.4 ,  19.5 ,\n",
       "        19.1 ,  20.1 ,  19.5 ,  20.8 ,  20.8 ,  19.9 ,  19.6 ,  19.6 ,\n",
       "        19.6 ,  20.3 ,  20.  ,  19.7 ,  19.6 ,  19.4 ,  18.6 ,  19.1 ,\n",
       "        19.4 ,  19.7 ,  20.1 ,  19.5 ,  20.  ,  20.  ,  19.4 ,  19.3 ,\n",
       "        18.9 ,  20.2 ,  19.8 ,  19.9 ,  19.1 ,  19.  ,  18.2 ,  17.7 ,\n",
       "        18.  ,  19.8 ,  19.3 ,  18.5 ,  19.1 ,  18.7 ,  19.3 ,  18.8 ,\n",
       "        18.3 ,  18.2 ,  18.2 ,  18.1 ,  18.6 ,  19.7 ,  18.8 ,  19.2 ,\n",
       "        19.36,  18.4 ,  18.7 ,  18.5 ,  17.8 ,  19.2 ])"
      ]
     },
     "execution_count": 68,
     "metadata": {},
     "output_type": "execute_result"
    }
   ],
   "source": [
    "y"
   ]
  },
  {
   "cell_type": "code",
   "execution_count": 73,
   "metadata": {},
   "outputs": [
    {
     "data": {
      "text/plain": [
       "0.0"
      ]
     },
     "execution_count": 73,
     "metadata": {},
     "output_type": "execute_result"
    }
   ],
   "source": [
    "from sklearn.metrics import f1_score \n",
    "f1_score([2,3,4,5], [5,4,3,2], average='macro')"
   ]
  },
  {
   "cell_type": "code",
   "execution_count": null,
   "metadata": {
    "collapsed": true
   },
   "outputs": [],
   "source": []
  }
 ],
 "metadata": {
  "kernelspec": {
   "display_name": "Python 3",
   "language": "python",
   "name": "python3"
  },
  "language_info": {
   "codemirror_mode": {
    "name": "ipython",
    "version": 3
   },
   "file_extension": ".py",
   "mimetype": "text/x-python",
   "name": "python",
   "nbconvert_exporter": "python",
   "pygments_lexer": "ipython3",
   "version": "3.6.3"
  }
 },
 "nbformat": 4,
 "nbformat_minor": 2
}
